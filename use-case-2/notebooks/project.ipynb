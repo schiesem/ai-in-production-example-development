{
 "cells": [
  {
   "cell_type": "markdown",
   "metadata": {},
   "source": [
    "### Importing Bibs"
   ]
  },
  {
   "cell_type": "code",
   "execution_count": 1,
   "metadata": {},
   "outputs": [
    {
     "name": "stdout",
     "output_type": "stream",
     "text": [
      "Import form src.constants is working\n",
      "Import form src.data.utils is working\n",
      "Import form src.features.utils is working\n",
      "Import form src.models.utils is working\n",
      "Import form src.visualization.utils is working\n"
     ]
    }
   ],
   "source": [
    "# append src path to modules\n",
    "import sys\n",
    "import os\n",
    "sys.path.append(\"../\") # go to parent dir\n",
    "\n",
    "# import sub-modules\n",
    "import src.constants as co\n",
    "import src.data.utils as du\n",
    "import src.features.utils as fu\n",
    "import src.models.utils as mu\n",
    "import src.visualization.utils as vu\n",
    "\n",
    "# further libraries\n",
    "# dealing with package warnings\n",
    "import warnings\n",
    "#progress bar\n",
    "from tqdm import tqdm\n",
    "\n",
    "# working with tabular data\n",
    "import pandas as pd\n",
    "# working with arrays\n",
    "import numpy as np\n",
    "# plotting\n",
    "import matplotlib.pyplot as plt\n",
    "\n",
    "# supress warning messages\n",
    "warnings.simplefilter(action='ignore', category=FutureWarning)"
   ]
  },
  {
   "cell_type": "markdown",
   "metadata": {},
   "source": [
    "### Constants"
   ]
  },
  {
   "cell_type": "code",
   "execution_count": 2,
   "metadata": {},
   "outputs": [],
   "source": [
    "#--------- handle the folders and files ---------#\n",
    "FIG_DIR = \"D:\\\\work-hsu\\\\08_code_programms\\\\ai-in-production-example-development\\\\use-case-2\\\\reports\\\\figures\"\n",
    "\n",
    "#--------- file constants related to JSON Object and dictionary---------#\n",
    "# file items \n",
    "FILE_NAME = \"FILE_NAME\"\n",
    "FILE_PATH = \"FILE_PATH\"\n",
    "FILE_TYPE = \"FILE_TYPE\"\n",
    "FILE_FOLDER = \"FILE_FOLDER\"\n",
    "FILE_DEVICES = \"FILE_DEVICES\"\n",
    "# device items\n",
    "SAMPLE_TIME = \"SAMPLE_TIME\"\n",
    "CHANNEL_DESCRIPTIONS = \"CHANNEL_DESCRIPTIONS\"\n",
    "SAMPLES = \"SAMPLES\"\n",
    "# sample items\n",
    "EC_SYSTEM_TIMESTAMP = \"EC_SYSTEM_TIMESTAMP\"\n",
    "CHANNEL_DATA = \"CHANNEL_DATA\"\n",
    "SCALED_CHANNEL_DATA = \"SCALED_CHANNEL_DATA\"\n",
    "# setable lables\n",
    "WEIGHT_LABEL = \"WEIGHT_LABEL\"\n",
    "FREQUENCY_LABEL = \"FREQUENCY_LABEL\"\n",
    "MOVING_LABEL = \"MOVING_LABEL\"\n",
    "# device name\n",
    "DEVICE = \"DEVICE\"\n",
    "DEVICE_DATA_FRAME = \"DEVICE_DATA_FRAME\""
   ]
  },
  {
   "cell_type": "markdown",
   "metadata": {},
   "source": [
    "### Converting raw data into data file"
   ]
  },
  {
   "cell_type": "code",
   "execution_count": 3,
   "metadata": {},
   "outputs": [
    {
     "name": "stdout",
     "output_type": "stream",
     "text": [
      "Name of File Path: D:\\work-hsu\\08_code_programms\\ai-in-production-example-development\\use-case-2\\data\\raw\\**\\*.json\n",
      "Number of Files Parsed: 10\n",
      "Creating Data Frames:\n"
     ]
    },
    {
     "name": "stderr",
     "output_type": "stream",
     "text": [
      "Data Frame: 100%|██████████| 10/10 [00:15<00:00,  1.57s/it]\n"
     ]
    },
    {
     "name": "stdout",
     "output_type": "stream",
     "text": [
      "Creating Feature Frames:\n"
     ]
    },
    {
     "name": "stderr",
     "output_type": "stream",
     "text": [
      "Feature Frame: 100%|██████████| 10/10 [00:19<00:00,  1.96s/it]\n"
     ]
    }
   ],
   "source": [
    "RAW_DATA_DIR = \"D:\\\\work-hsu\\\\08_code_programms\\\\ai-in-production-example-development\\\\use-case-2\\\\data\\\\raw\"\n",
    "PROCESSED_DATA_DIR = \"D:\\\\work-hsu\\\\08_code_programms\\\\ai-in-production-example-development\\\\use-case-2\\\\data\\\\processed\"\n",
    "\n",
    "DATA_FILE_NAME = \"raw_data_frame\"\n",
    "\n",
    "# list of files with JSON data\n",
    "files_list = du.parse_files(RAW_DATA_DIR, recursive=True)\n",
    "\n",
    "#--------- create the dictionary with raw data ---------#\n",
    "data_dict = du.create_data_dict(files_list)\n",
    "\n",
    "# creating the data frames and Extend Dictionaries\n",
    "print(\"Creating Data Frames:\")\n",
    "for file_dict in tqdm(data_dict.values(), desc=\"Data Frame\"):\n",
    "    #crreate and insert dataframe of device data (time series data)\n",
    "    for device_dict in file_dict[FILE_DEVICES].values():\n",
    "        du.create_dict_item(device_dict, DEVICE_DATA_FRAME, du.create_data_frame(device_dict))\n",
    "    # create and append weight label (kg)\n",
    "    du.create_dict_item(file_dict, WEIGHT_LABEL, du.get_weight_label(file_dict[FILE_FOLDER]))\n",
    "    # create and append freq label (herz)\n",
    "    du.create_dict_item(file_dict, FREQUENCY_LABEL, du.get_frequency_label(file_dict[FILE_FOLDER]))\n",
    "    # create and append moving label (up down)\n",
    "    for device_dict in file_dict[FILE_DEVICES].values():\n",
    "        #device_data_frame = create_data_frame(device_dict)\n",
    "        moving_label = du.get_moving_label(device_dict[DEVICE_DATA_FRAME], device_dict[DEVICE_DATA_FRAME].columns[3])\n",
    "    du.create_dict_item(file_dict, MOVING_LABEL, moving_label)\n",
    "\n",
    "#--------- features ---------#\n",
    "print(\"Creating Feature Frames:\")\n",
    "feature_frame = du.create_feature_frame(data_dict)\n",
    "\n",
    "#example for selection of data of the frame\n",
    "#test_select = feature_frame[feature_frame[\"MOVING_LABEL\"]==\"up\"]\n",
    "\n",
    "du.save_file(feature_frame, PROCESSED_DATA_DIR, DATA_FILE_NAME, \"pickle\")"
   ]
  },
  {
   "cell_type": "markdown",
   "metadata": {},
   "source": [
    "### Printing the raw data"
   ]
  },
  {
   "cell_type": "code",
   "execution_count": 4,
   "metadata": {},
   "outputs": [
    {
     "name": "stderr",
     "output_type": "stream",
     "text": [
      "Creating Plot: 4it [00:00, 181.76it/s]\n",
      "C:\\Users\\Schieseck\\AppData\\Local\\Temp\\ipykernel_52152\\634092781.py:48: UserWarning: FigureCanvasAgg is non-interactive, and thus cannot be shown\n",
      "  fig1.show()\n",
      "C:\\Users\\Schieseck\\AppData\\Local\\Temp\\ipykernel_52152\\634092781.py:49: UserWarning: FigureCanvasAgg is non-interactive, and thus cannot be shown\n",
      "  fig2.show()\n"
     ]
    },
    {
     "data": {
      "image/png": "[encoded data removed]",
      "text/plain": [
       "<Figure size 629.921x236.22 with 1 Axes>"
      ]
     },
     "metadata": {},
     "output_type": "display_data"
    },
    {
     "data": {
      "image/png": "[encoded data removed]",
      "text/plain": [
       "<Figure size 629.921x236.22 with 2 Axes>"
      ]
     },
     "metadata": {},
     "output_type": "display_data"
    }
   ],
   "source": [
    "DATA_FILE_PATH = f\"D:\\\\work-hsu\\\\08_code_programms\\\\ai-in-production-example-development\\\\use-case-2\\\\data\\processed\\\\{DATA_FILE_NAME}.pickle\"\n",
    "\n",
    "# load data frame for printing\n",
    "data_frame = du.load_file(DATA_FILE_PATH)\n",
    "\n",
    "# selecting data were mass moves upwards and weights 1710kg\n",
    "select_data = data_frame[(data_frame[du.MOVING_LABEL]==\"up\") & (data_frame[du.WEIGHT_LABEL]== 1710)]\n",
    "\n",
    "FIG_WIDTH = vu.cm2in(16)\n",
    "FIG_HEIGHT = vu.cm2in(6)\n",
    "\n",
    "\n",
    "# begin the first printing figure\n",
    "fig1, ax1 = plt.subplots(1,1, figsize=(FIG_WIDTH ,FIG_HEIGHT))\n",
    "\n",
    "# figure were both axis are in different graphs\n",
    "fig2, (ax2, ax3) = plt.subplots(1,2, figsize=(FIG_WIDTH ,FIG_HEIGHT), tight_layout=True)\n",
    "\n",
    "for index, row in tqdm(select_data.iterrows(), desc=\"Creating Plot\"):\n",
    "    column_names = row[du.DEVICE_DATA_FRAME].columns\n",
    "    x_col = column_names[0]\n",
    "    y_col = column_names[5]\n",
    "    y_values = row[du.DEVICE_DATA_FRAME][y_col]\n",
    "    x_values = row[du.DEVICE_DATA_FRAME][x_col].subtract(row[du.DEVICE_DATA_FRAME][x_col].iloc[0]).divide(1e9)\n",
    "    # set the printing color\n",
    "    if row[du.FREQUENCY_LABEL] == 60:\n",
    "        temp_color = \"r\"\n",
    "        temp_custom_label = \"(bad)\"\n",
    "        vu.custom_plot(ax2, x_values, y_values, alpha = 0.5, color = temp_color, linewidth = 0.25, \n",
    "                        autoscale = False, x_limits=(0, 6), y_limits=(-0.5, 2), \n",
    "                        title=\"Technikum BBG Messwerte original \\n 1710kg (open)\", x_label= \"Zeit in [1s]\", y_label=\"Relativer Schleppfehler [1]\",\n",
    "                        plot_custom_legend = True, custom_label = temp_custom_label)\n",
    "    if row[du.FREQUENCY_LABEL] == 69:\n",
    "        temp_color = \"g\"\n",
    "        temp_custom_label = \"(good)\"\n",
    "        vu.custom_plot(ax3, x_values, y_values, alpha = 0.5, color = temp_color, linewidth = 0.25, \n",
    "                        autoscale = False, x_limits=(0, 6), y_limits=(-0.5, 2),\n",
    "                        title = \"Technikum BBG Messwerte original \\n 1710kg (open)\", x_label= \"Zeit in [1s]\", y_label=\"Relativer Schleppfehler [1]\",\n",
    "                        plot_custom_legend = True, custom_label = temp_custom_label)\n",
    "\n",
    "    vu.custom_plot(ax1, x_values, y_values, alpha = 0.5, color = temp_color, linewidth = 0.25,\n",
    "                    title = \"Technikum BBG Messwerte original \\n 1710kg (open)\", x_label=\"Zeit in [1s]\", y_label=\"Relativer Schleppfehler [1]\",\n",
    "                    plot_custom_legend=True, custom_label=temp_custom_label)\n",
    "\n",
    "vu.save_fig(fig1, FIG_DIR, \"raw_common\", overwrite=True)\n",
    "vu.save_fig(fig2, FIG_DIR, \"raw_seperate\", overwrite=True)\n",
    "\n",
    "fig1.show()\n",
    "fig2.show()"
   ]
  },
  {
   "cell_type": "markdown",
   "metadata": {},
   "source": [
    "### Preprocess the Data"
   ]
  },
  {
   "cell_type": "code",
   "execution_count": 5,
   "metadata": {},
   "outputs": [
    {
     "name": "stdout",
     "output_type": "stream",
     "text": [
      "Error with data row 2, name: 23_03_08_13_52_46_7b363fd453f842d79a13ff29b59a5739_42\n",
      "Appended to drop list\n",
      "Error with data row 6, name: 23_03_08_14_57_12_955675d4aebc4528a14633ab883b2311_182\n",
      "Appended to drop list\n",
      "Element 23_03_08_13_52_46_7b363fd453f842d79a13ff29b59a5739_42 dropped\n",
      "Element 23_03_08_14_57_12_955675d4aebc4528a14633ab883b2311_182 dropped\n"
     ]
    }
   ],
   "source": [
    "#file name\n",
    "FEATURE_FILE_NAME = \"feature_frame\"\n",
    "\n",
    "# settings of the preprocessing\n",
    "RESAMPLETIME = '0.05s'\n",
    "MIN_ELEMENTS = 0\n",
    "MAX_ELEMENTS = 100\n",
    "\n",
    "data_frame = du.load_file(DATA_FILE_PATH)\n",
    "#resample and cutting\n",
    "drop_list = []\n",
    "for index, row in data_frame.iterrows():\n",
    "        try:\n",
    "            # if any None, NaN etc. than raise the exception\n",
    "            if row[\"DEVICE_DATA_FRAME\"].isnull().values.any() == True:\n",
    "                raise\n",
    "            # convert to datetime\n",
    "            row[\"DEVICE_DATA_FRAME\"][\"EC_SYSTEM_TIMESTAMP\"] = pd.to_datetime(row[\"DEVICE_DATA_FRAME\"][\"EC_SYSTEM_TIMESTAMP\"], unit = \"ns\")\n",
    "            # resample \n",
    "            row[\"DEVICE_DATA_FRAME\"] = row[\"DEVICE_DATA_FRAME\"].resample(RESAMPLETIME, on=\"EC_SYSTEM_TIMESTAMP\").mean()\n",
    "            # reindexing \n",
    "            row[\"DEVICE_DATA_FRAME\"].reset_index(inplace=True)\n",
    "            # convert with pos interval\n",
    "            row[\"DEVICE_DATA_FRAME\"] = row[\"DEVICE_DATA_FRAME\"][(row[\"DEVICE_DATA_FRAME\"]['Aktueller Wert / DigitalausgÃ¤nge GrundgerÃ¤t ']==1)]\n",
    "            # cut to 100\n",
    "            row[\"DEVICE_DATA_FRAME\"] = row[\"DEVICE_DATA_FRAME\"][MIN_ELEMENTS:MAX_ELEMENTS]\n",
    "            # reconvert to unix time\n",
    "            row[\"DEVICE_DATA_FRAME\"][\"EC_SYSTEM_TIMESTAMP\"] = row[\"DEVICE_DATA_FRAME\"][\"EC_SYSTEM_TIMESTAMP\"].apply(lambda x: (x - pd.Timestamp(\"1970-01-01\"))//pd.Timedelta(\"1ms\"))\n",
    "\n",
    "        except:\n",
    "            # name dropping element\n",
    "            print(f\"Error with data row {index}, name: {row.FILE_NAME}\")\n",
    "            drop_list.append(f\"{row.FILE_NAME}\")\n",
    "            print(\"Appended to drop list\")\n",
    "\n",
    "# drop elements of dataframe\n",
    "for drop_element in drop_list:\n",
    "    data_frame.drop(data_frame[data_frame.FILE_NAME == drop_element].index, inplace = True)\n",
    "    print(f\"Element {drop_element} dropped\")\n",
    "\n",
    "# file saving\n",
    "du.save_file(data_frame, PROCESSED_DATA_DIR, FEATURE_FILE_NAME, \"pickle\")"
   ]
  },
  {
   "cell_type": "markdown",
   "metadata": {},
   "source": [
    "### Printing preprocessed Data"
   ]
  },
  {
   "cell_type": "code",
   "execution_count": null,
   "metadata": {},
   "outputs": [],
   "source": [
    "FEATURE_PATH= f\"D:\\\\work-hsu\\\\08_code_programms\\\\ai-in-production-example-development\\\\use-case-2\\\\data\\processed\\\\{FEATURE_FILE_NAME}.pickle\"\n",
    "\n",
    "FIG_WIDTH = vu.cm2in(16)\n",
    "FIG_HEIGHT = vu.cm2in(7)\n",
    "\n",
    "data_frame = du.load_file(FEATURE_PATH)\n",
    "\n",
    "# selecting data were mass moves upwards and weights 1710kg\n",
    "select_data = data_frame[(data_frame[du.MOVING_LABEL]==\"up\") & (data_frame[du.WEIGHT_LABEL]== 1710)]\n",
    "\n",
    "# begin the first printing figure\n",
    "fig1, ax1 = plt.subplots(1,1, figsize=(FIG_WIDTH, FIG_HEIGHT))\n",
    "\n",
    "# figure were both axis are in different graphs\n",
    "fig2, (ax2, ax3) = plt.subplots(1,2, figsize=(FIG_WIDTH, FIG_HEIGHT), tight_layout=True)\n",
    "\n",
    "for index, row in tqdm(select_data.iterrows(), desc=\"Creating Plot 1\"):\n",
    "    column_names = row[du.DEVICE_DATA_FRAME].columns\n",
    "    x_col = column_names[0]\n",
    "    y_col = column_names[5]\n",
    "    y_values = row[du.DEVICE_DATA_FRAME][y_col]\n",
    "    x_values = row[du.DEVICE_DATA_FRAME][x_col].subtract(row[du.DEVICE_DATA_FRAME][x_col].iloc[0]).divide(1e3)\n",
    "    # set the printing color\n",
    "    if row[du.FREQUENCY_LABEL] == 60:\n",
    "        temp_color = \"r\"\n",
    "        temp_custom_label = \"(bad)\"\n",
    "        vu.custom_plot(ax2, x_values, y_values, alpha = 0.5, color = temp_color, linewidth = 0.25, \n",
    "                        autoscale = False, x_limits=(0, 5), y_limits=(-0.5, 2), \n",
    "                        title=\"Technikum BBG Messwerte vorverarbeitet \\n 1710kg (open)\", x_label= \"Zeit in [1s]\", y_label=\"Relativer Schleppfehler [-]\",\n",
    "                        plot_custom_legend = True, custom_label = temp_custom_label)\n",
    "    if row[du.FREQUENCY_LABEL] == 69:\n",
    "        temp_color = \"g\"\n",
    "        temp_custom_label = \"(good)\"\n",
    "        vu.custom_plot(ax3, x_values, y_values, alpha = 0.5, color = temp_color, linewidth = 0.25, \n",
    "                        autoscale = False, x_limits=(0, 5), y_limits=(-0.5, 2),\n",
    "                        title = \"Technikum BBG Messwerte vorverarbeitet \\n 1710kg (open)\", x_label= \"Zeit in [1s]\", y_label=\"Relativer Schleppfehler [-]\",\n",
    "                        plot_custom_legend = True, custom_label = temp_custom_label)\n",
    "\n",
    "    vu.custom_plot(ax1, x_values, y_values, alpha = 0.5, color = temp_color, linewidth = 0.25,\n",
    "                    title = \"Technikum BBG Messwerte vorverarbeitet \\n 1710kg (open)\", x_label= \"Zeit in [1s]\", y_label=\"Relativer Schleppfehler [-]\",\n",
    "                    plot_custom_legend=True, custom_label=temp_custom_label)\n",
    "\n",
    "vu.save_fig(fig1, FIG_DIR, \"processed_common\", overwrite=True)\n",
    "vu.save_fig(fig2, FIG_DIR, \"processed_seperate\", overwrite=True)\n",
    "\n",
    "fig1.show()\n",
    "fig2.show()"
   ]
  },
  {
   "cell_type": "markdown",
   "metadata": {},
   "source": [
    "### Train Model"
   ]
  },
  {
   "cell_type": "code",
   "execution_count": 9,
   "metadata": {},
   "outputs": [
    {
     "name": "stderr",
     "output_type": "stream",
     "text": [
      "d:\\work-hsu\\08_code_programms\\ai-in-production-example-development\\use-case-2\\.venv\\lib\\site-packages\\keras\\src\\layers\\core\\dense.py:87: UserWarning: Do not pass an `input_shape`/`input_dim` argument to a layer. When using Sequential models, prefer using an `Input(shape)` object as the first layer in the model instead.\n",
      "  super().__init__(activity_regularizer=activity_regularizer, **kwargs)\n"
     ]
    },
    {
     "data": {
      "text/html": [
       "<pre style=\"white-space:pre;overflow-x:auto;line-height:normal;font-family:Menlo,'DejaVu Sans Mono',consolas,'Courier New',monospace\"><span style=\"font-weight: bold\">Model: \"my_sequential\"</span>\n",
       "</pre>\n"
      ],
      "text/plain": [
       "\u001b[1mModel: \"my_sequential\"\u001b[0m\n"
      ]
     },
     "metadata": {},
     "output_type": "display_data"
    },
    {
     "data": {
      "text/html": [
       "<pre style=\"white-space:pre;overflow-x:auto;line-height:normal;font-family:Menlo,'DejaVu Sans Mono',consolas,'Courier New',monospace\">┏━━━━━━━━━━━━━━━━━━━━━━━━━━━━━━━━━┳━━━━━━━━━━━━━━━━━━━━━━━━┳━━━━━━━━━━━━━━━┓\n",
       "┃<span style=\"font-weight: bold\"> Layer (type)                    </span>┃<span style=\"font-weight: bold\"> Output Shape           </span>┃<span style=\"font-weight: bold\">       Param # </span>┃\n",
       "┡━━━━━━━━━━━━━━━━━━━━━━━━━━━━━━━━━╇━━━━━━━━━━━━━━━━━━━━━━━━╇━━━━━━━━━━━━━━━┩\n",
       "│ dense_9 (<span style=\"color: #0087ff; text-decoration-color: #0087ff\">Dense</span>)                 │ (<span style=\"color: #00d7ff; text-decoration-color: #00d7ff\">None</span>, <span style=\"color: #00af00; text-decoration-color: #00af00\">100</span>)            │        <span style=\"color: #00af00; text-decoration-color: #00af00\">10,100</span> │\n",
       "├─────────────────────────────────┼────────────────────────┼───────────────┤\n",
       "│ dense_10 (<span style=\"color: #0087ff; text-decoration-color: #0087ff\">Dense</span>)                │ (<span style=\"color: #00d7ff; text-decoration-color: #00d7ff\">None</span>, <span style=\"color: #00af00; text-decoration-color: #00af00\">10</span>)             │         <span style=\"color: #00af00; text-decoration-color: #00af00\">1,010</span> │\n",
       "├─────────────────────────────────┼────────────────────────┼───────────────┤\n",
       "│ dense_11 (<span style=\"color: #0087ff; text-decoration-color: #0087ff\">Dense</span>)                │ (<span style=\"color: #00d7ff; text-decoration-color: #00d7ff\">None</span>, <span style=\"color: #00af00; text-decoration-color: #00af00\">1</span>)              │            <span style=\"color: #00af00; text-decoration-color: #00af00\">11</span> │\n",
       "└─────────────────────────────────┴────────────────────────┴───────────────┘\n",
       "</pre>\n"
      ],
      "text/plain": [
       "┏━━━━━━━━━━━━━━━━━━━━━━━━━━━━━━━━━┳━━━━━━━━━━━━━━━━━━━━━━━━┳━━━━━━━━━━━━━━━┓\n",
       "┃\u001b[1m \u001b[0m\u001b[1mLayer (type)                   \u001b[0m\u001b[1m \u001b[0m┃\u001b[1m \u001b[0m\u001b[1mOutput Shape          \u001b[0m\u001b[1m \u001b[0m┃\u001b[1m \u001b[0m\u001b[1m      Param #\u001b[0m\u001b[1m \u001b[0m┃\n",
       "┡━━━━━━━━━━━━━━━━━━━━━━━━━━━━━━━━━╇━━━━━━━━━━━━━━━━━━━━━━━━╇━━━━━━━━━━━━━━━┩\n",
       "│ dense_9 (\u001b[38;5;33mDense\u001b[0m)                 │ (\u001b[38;5;45mNone\u001b[0m, \u001b[38;5;34m100\u001b[0m)            │        \u001b[38;5;34m10,100\u001b[0m │\n",
       "├─────────────────────────────────┼────────────────────────┼───────────────┤\n",
       "│ dense_10 (\u001b[38;5;33mDense\u001b[0m)                │ (\u001b[38;5;45mNone\u001b[0m, \u001b[38;5;34m10\u001b[0m)             │         \u001b[38;5;34m1,010\u001b[0m │\n",
       "├─────────────────────────────────┼────────────────────────┼───────────────┤\n",
       "│ dense_11 (\u001b[38;5;33mDense\u001b[0m)                │ (\u001b[38;5;45mNone\u001b[0m, \u001b[38;5;34m1\u001b[0m)              │            \u001b[38;5;34m11\u001b[0m │\n",
       "└─────────────────────────────────┴────────────────────────┴───────────────┘\n"
      ]
     },
     "metadata": {},
     "output_type": "display_data"
    },
    {
     "data": {
      "text/html": [
       "<pre style=\"white-space:pre;overflow-x:auto;line-height:normal;font-family:Menlo,'DejaVu Sans Mono',consolas,'Courier New',monospace\"><span style=\"font-weight: bold\"> Total params: </span><span style=\"color: #00af00; text-decoration-color: #00af00\">11,121</span> (43.44 KB)\n",
       "</pre>\n"
      ],
      "text/plain": [
       "\u001b[1m Total params: \u001b[0m\u001b[38;5;34m11,121\u001b[0m (43.44 KB)\n"
      ]
     },
     "metadata": {},
     "output_type": "display_data"
    },
    {
     "data": {
      "text/html": [
       "<pre style=\"white-space:pre;overflow-x:auto;line-height:normal;font-family:Menlo,'DejaVu Sans Mono',consolas,'Courier New',monospace\"><span style=\"font-weight: bold\"> Trainable params: </span><span style=\"color: #00af00; text-decoration-color: #00af00\">11,121</span> (43.44 KB)\n",
       "</pre>\n"
      ],
      "text/plain": [
       "\u001b[1m Trainable params: \u001b[0m\u001b[38;5;34m11,121\u001b[0m (43.44 KB)\n"
      ]
     },
     "metadata": {},
     "output_type": "display_data"
    },
    {
     "data": {
      "text/html": [
       "<pre style=\"white-space:pre;overflow-x:auto;line-height:normal;font-family:Menlo,'DejaVu Sans Mono',consolas,'Courier New',monospace\"><span style=\"font-weight: bold\"> Non-trainable params: </span><span style=\"color: #00af00; text-decoration-color: #00af00\">0</span> (0.00 B)\n",
       "</pre>\n"
      ],
      "text/plain": [
       "\u001b[1m Non-trainable params: \u001b[0m\u001b[38;5;34m0\u001b[0m (0.00 B)\n"
      ]
     },
     "metadata": {},
     "output_type": "display_data"
    },
    {
     "name": "stdout",
     "output_type": "stream",
     "text": [
      "Accuracy: 100.00\n",
      "Accuracy: \n",
      "[0.0, 0.6666666865348816, 0.6666666865348816, 0.6666666865348816, 0.6666666865348816, 0.6666666865348816, 0.6666666865348816, 0.6666666865348816, 0.6666666865348816, 0.6666666865348816, 0.6666666865348816, 0.6666666865348816, 0.6666666865348816, 0.6666666865348816, 0.6666666865348816, 0.6666666865348816, 0.6666666865348816, 0.6666666865348816, 0.6666666865348816, 0.6666666865348816, 0.6666666865348816, 0.6666666865348816, 0.6666666865348816, 0.6666666865348816, 1.0]\n",
      "Loss:\n",
      "[0.7123697400093079, 0.6857357025146484, 0.6652487516403198, 0.6487485766410828, 0.6321547627449036, 0.6172404885292053, 0.6041247248649597, 0.5928540825843811, 0.5841901302337646, 0.5765039324760437, 0.5676591396331787, 0.5572421550750732, 0.5449510216712952, 0.5331879258155823, 0.5262473225593567, 0.5190238952636719, 0.5112509727478027, 0.5029532313346863, 0.4943608343601227, 0.48578941822052, 0.4771755039691925, 0.46851763129234314, 0.45972415804862976, 0.4509166181087494, 0.44207510352134705]\n",
      "\u001b[1m1/1\u001b[0m \u001b[32m━━━━━━━━━━━━━━━━━━━━\u001b[0m\u001b[37m\u001b[0m \u001b[1m0s\u001b[0m 33ms/step\n",
      "Predictions: [[0.51867473]\n",
      " [0.32416743]\n",
      " [0.22239657]]\n",
      "Real-Labels: [1. 0. 0.]\n",
      "END\n"
     ]
    }
   ],
   "source": [
    "#import numpy as np\n",
    "#from src.data.utils import load_file, MOVING_LABEL, WEIGHT_LABEL\n",
    "\n",
    "FEATURE_FILE_NAME = \"feature_frame\"\n",
    "FEATURE_PATH= f\"D:\\\\work-hsu\\\\08_code_programms\\\\ai-in-production-example-development\\\\use-case-2\\\\data\\processed\\\\{FEATURE_FILE_NAME}.pickle\"\n",
    "\n",
    "data = du.load_file(FEATURE_PATH)\n",
    "\n",
    "#upwards data witch 1.71t\n",
    "select_data = data[(data[MOVING_LABEL]==\"up\") & (data[WEIGHT_LABEL]== 1710)]\n",
    "select_data.reset_index(inplace=True)\n",
    "\n",
    "VALUE_NAME = \"Schleppfehler in Anwendereinheiten / Regelverfahren Prozesswerte\"\n",
    "AXIS_0 = len(select_data)\n",
    "AXIS_1 = len(select_data[\"DEVICE_DATA_FRAME\"].iloc[0][VALUE_NAME])\n",
    "\n",
    "X = np.zeros((AXIS_0,AXIS_1))\n",
    "Y = np.zeros(AXIS_0)\n",
    "\n",
    "for index, row in select_data.iterrows():\n",
    "    X[index] = np.array(row[\"DEVICE_DATA_FRAME\"][VALUE_NAME], dtype=float)\n",
    "\n",
    "    label = np.array(row[\"FREQUENCY_LABEL\"], dtype=int)\n",
    "    if label == 60:\n",
    "            # good label\n",
    "            Y[index] = 1\n",
    "    elif label == 69:\n",
    "            # bad label\n",
    "            Y[index] = 0\n",
    "    else:\n",
    "        print(\"Label Error\")\n",
    "\n",
    "#model creation\n",
    "model = mu.create_model()\n",
    "\n",
    "# model training\n",
    "history = mu.train_model(model, X, Y, epochs=25 , batch_size=5)\n",
    "\n",
    "print(\"Accuracy: \")\n",
    "print(history.history[\"accuracy\"])\n",
    "print(\"Loss:\")\n",
    "print(history.history[\"loss\"])\n",
    "\n",
    "#prediction\n",
    "print(f\"Predictions: {model.predict(X)}\")\n",
    "print(f\"Real-Labels: {Y}\")\n",
    "\n",
    "print(\"END\")"
   ]
  }
 ],
 "metadata": {
  "kernelspec": {
   "display_name": ".venv",
   "language": "python",
   "name": "python3"
  },
  "language_info": {
   "codemirror_mode": {
    "name": "ipython",
    "version": 3
   },
   "file_extension": ".py",
   "mimetype": "text/x-python",
   "name": "python",
   "nbconvert_exporter": "python",
   "pygments_lexer": "ipython3",
   "version": "3.10.5"
  }
 },
 "nbformat": 4,
 "nbformat_minor": 2
}
